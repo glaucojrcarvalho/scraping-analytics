{
 "cells": [
  {
   "cell_type": "markdown",
   "metadata": {},
   "source": [
    "### Jupyter Notebook para Análise de Dados da Câmara dos Deputados\n",
    "##### Desenvolvido por: Glauco Júnior Carvalho"
   ]
  },
  {
   "cell_type": "markdown",
   "metadata": {},
   "source": [
    "![widepay-banner](imagens/camara_dos_deputados.jpg)"
   ]
  },
  {
   "cell_type": "markdown",
   "metadata": {},
   "source": [
    "### Resumo\n",
    "#### Para apoiar a Câmara dos Deputados na redução de custos e melhorar o uso dos valores destinados aos gastos dos Parlamentares utilizaremos análise de dashboards e Machine Learning."
   ]
  },
  {
   "cell_type": "markdown",
   "metadata": {},
   "source": [
    "### Guia de Referência 1\n",
    "<p> Este procedimento é para obtenção de dados via WEB Scrapping. </p>\n",
    "<p> Para obter os dados compactados siga para o Guia de Referência 2. </p>"
   ]
  },
  {
   "cell_type": "markdown",
   "metadata": {},
   "source": [
    "1. Web Scraping\n",
    "2. Robots.txt\n",
    "3. Selenium\n",
    "4. Versão Python\n",
    "5. Importação de Bibliotecas\n",
    "6. Marca d'Água de Versões\n",
    "7. ChromeDriver\n",
    "8. Página Alvo\n",
    "9. BeautifulSoup\n",
    "10. Importação de Data Frame Scrapping"
   ]
  },
  {
   "cell_type": "markdown",
   "metadata": {},
   "source": [
    "### 1. Web Scraping\n",
    "<p> O Web Scraping ou (Raspagem WEB) é uma técnica para coleta e mineração de dados da WEB, o objetivo principal é estruturar os dados para colher insights importantes para tomadas de decisões eficientes. </p>\n",
    "\n",
    "<p> É de fundamental importância verificar os termos de uso do(s) site(s) alvo, evitando violação de regras que causem impacto negativo. </p>"
   ]
  },
  {
   "cell_type": "markdown",
   "metadata": {},
   "source": [
    "### 2. Robots.txt\n",
    "<p> Robots.txt é um arquivo de configuração nos sites que controla o que pode ser indexado e/ou extraído pelos bots ou drivers de automação. </p>\n",
    "\n",
    "<p> Para este projeto utilizaremos o site alvo: https://brasil.io para extração das informações da Câmara dos Deputados. </p>\n",
    "\n",
    "<p> Realizaremos uma busca do arquivo de configuração no site alvo em: https://brasil.io/robots.txt, quando não há arquivo ou quando afirma acesso liberado podemos seguir com os drivers de automação para extração das informações. </p>"
   ]
  },
  {
   "cell_type": "markdown",
   "metadata": {},
   "source": [
    "### 3. Selenium\n",
    "<p> Selenium é uma ferramenta de automatização que permite realizar testes em ambientes de aplicações reais. </p>\n",
    "\n",
    "<p> Faremos a instalação do Selenium via pip (gerenciador de pacotes Python). </p>"
   ]
  },
  {
   "cell_type": "code",
   "execution_count": 20,
   "metadata": {},
   "outputs": [],
   "source": [
    "# Comando pip para instalação do Selenium.\n",
    "!pip install -q selenium"
   ]
  },
  {
   "cell_type": "markdown",
   "metadata": {},
   "source": [
    "### 4. Versão Python\n",
    "<p> Para reproduzir os códigos deste projeto é importante utilizar a mesma versão que estamos utilizando neste laboratório. </p> "
   ]
  },
  {
   "cell_type": "code",
   "execution_count": 21,
   "metadata": {},
   "outputs": [
    {
     "name": "stdout",
     "output_type": "stream",
     "text": [
      "Neste laboratório estamos utilizando a versão do Python: 3.7.6\n"
     ]
    }
   ],
   "source": [
    "# Verificando versão do Python\n",
    "from platform import python_version\n",
    "print(\"Neste laboratório estamos utilizando a versão do Python:\", python_version())"
   ]
  },
  {
   "cell_type": "markdown",
   "metadata": {},
   "source": [
    "### 5. Importação de Bibliotecas"
   ]
  },
  {
   "cell_type": "code",
   "execution_count": 22,
   "metadata": {},
   "outputs": [],
   "source": [
    "# Comandos para importação\n",
    "import bs4\n",
    "import csv \n",
    "import selenium\n",
    "import numpy as np\n",
    "%matplotlib inline\n",
    "import pandas as pd\n",
    "import seaborn as sns\n",
    "from bs4 import BeautifulSoup\n",
    "from selenium import webdriver\n",
    "import matplotlib.pyplot as plt\n",
    "from collections import Counter"
   ]
  },
  {
   "cell_type": "markdown",
   "metadata": {},
   "source": [
    "### 6. Marca d'Água de Versões\n",
    "<p> Utilizaremos o pacote WaterMark para visualizarmos as versões dos pacotes que estamos utilizando neste laboratório. </p>"
   ]
  },
  {
   "cell_type": "code",
   "execution_count": 23,
   "metadata": {},
   "outputs": [
    {
     "name": "stdout",
     "output_type": "stream",
     "text": [
      "The watermark extension is already loaded. To reload it, use:\n",
      "  %reload_ext watermark\n",
      "bs4       : 4.8.2\n",
      "requests  : 2.22.0\n",
      "matplotlib: 3.1.3\n",
      "csv       : 1.0\n",
      "selenium  : 3.141.0\n",
      "numpy     : 1.18.1\n",
      "pandas    : 1.0.1\n",
      "seaborn   : 0.10.0\n",
      "\n"
     ]
    }
   ],
   "source": [
    "# Instalação e uso do pacote watermark.\n",
    "!pip install -q -U watermark\n",
    "\n",
    "%load_ext watermark\n",
    "%watermark --iversions"
   ]
  },
  {
   "cell_type": "markdown",
   "metadata": {},
   "source": [
    "### 7. ChromeDriver\n",
    "<p>  Utilizaremos o ChromeDriver como WebDriver deste projeto, é uma ferramenta open source para testes automatizados em páginas web. </p>\n",
    "\n",
    "###### É necessário ir até o link abaixo, realizar o download do WebDriver e extrair para a pasta do projeto.\n",
    "<p> https://chromedriver.chromium.org </p>\n",
    "\n",
    "###### Obs. Note que será iniciada uma janela do navegador, não feche-a até a extração dos dados ser concluída."
   ]
  },
  {
   "cell_type": "code",
   "execution_count": 24,
   "metadata": {},
   "outputs": [],
   "source": [
    "# Criando o driver de conexão.\n",
    "cdriver = webdriver.Chrome(\"./chromedriver\")\n",
    "cdriver.implicitly_wait(10) # 10 segundos"
   ]
  },
  {
   "cell_type": "markdown",
   "metadata": {},
   "source": [
    "### 8. Página Alvo"
   ]
  },
  {
   "cell_type": "code",
   "execution_count": 25,
   "metadata": {},
   "outputs": [],
   "source": [
    " # Abrindo conexão com a página alvo e fazendo a busca.\n",
    "cdriver.get(\"https://brasil.io/dataset/gastos-deputados/cota_parlamentar/\")"
   ]
  },
  {
   "cell_type": "code",
   "execution_count": 26,
   "metadata": {},
   "outputs": [],
   "source": [
    " # Gravando as informações do scraping em uma variável.\n",
    "dataset = cdriver.find_elements_by_id(\"gastos-deputados\")"
   ]
  },
  {
   "cell_type": "markdown",
   "metadata": {},
   "source": [
    "### 9. BeautifulSoup\n",
    "\n",
    "<p> BeautifulSoup é um pacote Python para análise de documentos HTML e XML.</p>"
   ]
  },
  {
   "cell_type": "code",
   "execution_count": 27,
   "metadata": {},
   "outputs": [],
   "source": [
    "# Passando valores do Scrapping para o Soup\n",
    "for data in dataset:\n",
    "    result_html = data.get_attribute('innerHTML')\n",
    "    soup = BeautifulSoup(result_html, 'html.parser')"
   ]
  },
  {
   "cell_type": "code",
   "execution_count": 28,
   "metadata": {
    "scrolled": true
   },
   "outputs": [],
   "source": [
    "# Criaremos um arquivo para receber os dados do Web Scraping\n",
    "arquivo = csv.writer(open('dados/scrap.csv', 'w', encoding = \"utf-8\"))"
   ]
  },
  {
   "cell_type": "code",
   "execution_count": 29,
   "metadata": {},
   "outputs": [
    {
     "data": {
      "text/plain": [
       "133"
      ]
     },
     "execution_count": 29,
     "metadata": {},
     "output_type": "execute_result"
    }
   ],
   "source": [
    "# Extraímos o cabeçalho da tabela e salvamos no nosso arquivo (título)\n",
    "header = soup.find(\"thead\")\n",
    "header_elements = header.find_all(\"th\")\n",
    "header_elements = [head.text for head in header_elements[1:]]\n",
    "arquivo.writerow(header_elements)"
   ]
  },
  {
   "cell_type": "code",
   "execution_count": 30,
   "metadata": {},
   "outputs": [],
   "source": [
    "# Extraímos elemento de cada linha\n",
    "elementos_linha = soup.find_all(\"tr\")"
   ]
  },
  {
   "cell_type": "code",
   "execution_count": 31,
   "metadata": {},
   "outputs": [],
   "source": [
    "# Agora extraímos o valor de cada linha e inserimos no nosso arquivo\n",
    "for row in elementos_linha:\n",
    "    data_elements = row.find_all(\"td\")\n",
    "    data_elements = [data.text for data in data_elements]\n",
    "    arquivo.writerow(data_elements)"
   ]
  },
  {
   "cell_type": "markdown",
   "metadata": {},
   "source": [
    "### 10. Importando DataFrame \n",
    "##### Nota! Caso dê problema na execução abaixo, execute novamente a linha de cima."
   ]
  },
  {
   "cell_type": "code",
   "execution_count": 32,
   "metadata": {},
   "outputs": [],
   "source": [
    "df_scrapping = pd.read_csv('dados/scrap.csv')"
   ]
  },
  {
   "cell_type": "code",
   "execution_count": 33,
   "metadata": {},
   "outputs": [
    {
     "data": {
      "text/html": [
       "<div>\n",
       "<style scoped>\n",
       "    .dataframe tbody tr th:only-of-type {\n",
       "        vertical-align: middle;\n",
       "    }\n",
       "\n",
       "    .dataframe tbody tr th {\n",
       "        vertical-align: top;\n",
       "    }\n",
       "\n",
       "    .dataframe thead th {\n",
       "        text-align: right;\n",
       "    }\n",
       "</style>\n",
       "<table border=\"1\" class=\"dataframe\">\n",
       "  <thead>\n",
       "    <tr style=\"text-align: right;\">\n",
       "      <th></th>\n",
       "      <th>Unnamed: 0</th>\n",
       "      <th>1</th>\n",
       "      <th>Unnamed: 2</th>\n",
       "      <th>Vander Loubet</th>\n",
       "      <th>PT</th>\n",
       "      <th>MS</th>\n",
       "      <th>TELEFONIA</th>\n",
       "      <th>00000000000006</th>\n",
       "      <th>RAMAL</th>\n",
       "      <th>16.61</th>\n",
       "      <th>0.00</th>\n",
       "      <th>16.61.1</th>\n",
       "    </tr>\n",
       "  </thead>\n",
       "  <tbody>\n",
       "    <tr>\n",
       "      <th>0</th>\n",
       "      <td>2020</td>\n",
       "      <td>1</td>\n",
       "      <td>NaN</td>\n",
       "      <td>Giacobo</td>\n",
       "      <td>PL</td>\n",
       "      <td>PR</td>\n",
       "      <td>TELEFONIA</td>\n",
       "      <td>6</td>\n",
       "      <td>RAMAL</td>\n",
       "      <td>17.80</td>\n",
       "      <td>0.0</td>\n",
       "      <td>17.80</td>\n",
       "    </tr>\n",
       "    <tr>\n",
       "      <th>1</th>\n",
       "      <td>2020</td>\n",
       "      <td>1</td>\n",
       "      <td>NaN</td>\n",
       "      <td>Norma Ayub</td>\n",
       "      <td>DEM</td>\n",
       "      <td>ES</td>\n",
       "      <td>TELEFONIA</td>\n",
       "      <td>6</td>\n",
       "      <td>RAMAL</td>\n",
       "      <td>0.30</td>\n",
       "      <td>0.0</td>\n",
       "      <td>0.30</td>\n",
       "    </tr>\n",
       "    <tr>\n",
       "      <th>2</th>\n",
       "      <td>2020</td>\n",
       "      <td>1</td>\n",
       "      <td>NaN</td>\n",
       "      <td>Fausto Pinato</td>\n",
       "      <td>PP</td>\n",
       "      <td>SP</td>\n",
       "      <td>TELEFONIA</td>\n",
       "      <td>6</td>\n",
       "      <td>RAMAL</td>\n",
       "      <td>2.36</td>\n",
       "      <td>0.0</td>\n",
       "      <td>2.36</td>\n",
       "    </tr>\n",
       "    <tr>\n",
       "      <th>3</th>\n",
       "      <td>2020</td>\n",
       "      <td>1</td>\n",
       "      <td>NaN</td>\n",
       "      <td>Iracema Portella</td>\n",
       "      <td>PP</td>\n",
       "      <td>PI</td>\n",
       "      <td>TELEFONIA</td>\n",
       "      <td>6</td>\n",
       "      <td>RAMAL</td>\n",
       "      <td>22.11</td>\n",
       "      <td>0.0</td>\n",
       "      <td>22.11</td>\n",
       "    </tr>\n",
       "    <tr>\n",
       "      <th>4</th>\n",
       "      <td>2020</td>\n",
       "      <td>1</td>\n",
       "      <td>NaN</td>\n",
       "      <td>Fábio Henrique</td>\n",
       "      <td>PDT</td>\n",
       "      <td>SE</td>\n",
       "      <td>TELEFONIA</td>\n",
       "      <td>6</td>\n",
       "      <td>RAMAL</td>\n",
       "      <td>26.39</td>\n",
       "      <td>0.0</td>\n",
       "      <td>26.39</td>\n",
       "    </tr>\n",
       "  </tbody>\n",
       "</table>\n",
       "</div>"
      ],
      "text/plain": [
       "   Unnamed: 0  1  Unnamed: 2      Vander Loubet    PT  MS  TELEFONIA  \\\n",
       "0        2020  1         NaN            Giacobo    PL  PR  TELEFONIA   \n",
       "1        2020  1         NaN         Norma Ayub   DEM  ES  TELEFONIA   \n",
       "2        2020  1         NaN      Fausto Pinato    PP  SP  TELEFONIA   \n",
       "3        2020  1         NaN   Iracema Portella    PP  PI  TELEFONIA   \n",
       "4        2020  1         NaN     Fábio Henrique   PDT  SE  TELEFONIA   \n",
       "\n",
       "    00000000000006   RAMAL  16.61  0.00  16.61.1  \n",
       "0                 6  RAMAL  17.80   0.0    17.80  \n",
       "1                 6  RAMAL   0.30   0.0     0.30  \n",
       "2                 6  RAMAL   2.36   0.0     2.36  \n",
       "3                 6  RAMAL  22.11   0.0    22.11  \n",
       "4                 6  RAMAL  26.39   0.0    26.39  "
      ]
     },
     "execution_count": 33,
     "metadata": {},
     "output_type": "execute_result"
    }
   ],
   "source": [
    "# Visualizando as 5 primeiras linhas do dataframe\n",
    "df_scrapping.head(5)"
   ]
  },
  {
   "cell_type": "markdown",
   "metadata": {},
   "source": [
    " "
   ]
  },
  {
   "cell_type": "markdown",
   "metadata": {},
   "source": [
    "### Guia de Referência 2\n",
    "<p> Este passo é para obtenção de conjunto de dados via link. </p>\n",
    "<p> Realizaremos na sequência a análise exploratória e estatística dos dados.</p>"
   ]
  },
  {
   "cell_type": "markdown",
   "metadata": {},
   "source": [
    "1. Busca Conjunto de Dados WebLink\n",
    "2. Importação de Dados\n",
    "3. Análise Exploratória dos Dados\n",
    "\n",
    "    3.1 Shape do DataFrame\n",
    "    \n",
    "    3.2 Colunas do DataFrame\n",
    "    \n",
    "    3.3 Tipos de Dados\n",
    "    \n",
    "    3.4 Colunas Duplicadas\n",
    "    \n",
    "    3.5 Percentual de Colunas NA\n",
    "    \n",
    "    \n",
    "4. Análise Estatística dos Dados\n",
    "\n",
    "    4.1 Distribuição dos Dados\n",
    "    \n",
    "    4.2 Resumos Estatísticos das Variáveis\n",
    "    \n",
    "    \n",
    "5. Manipulando Estrutura do DataFrame\n",
    "\n",
    "    5.1 Removendo Colunas NA\n",
    "        \n",
    "    \n",
    "6. Visualização Dashboard\n",
    "\n",
    "    6.1 Débito Cota Parlamentar\n",
    "    \n",
    "    6.2 Débito Cota por Estado\n",
    "    \n",
    "    6.3 Débito Cota por Partido\n",
    "    \n",
    "    6.4 Deputados por Partido\n",
    "    \n",
    "    6.5 Valor Líquido por Fornecedor\n",
    "    \n",
    "    6.6 Total Líquido Anual\n",
    "    \n",
    "    6.7 Total Líquido Mensal"
   ]
  },
  {
   "cell_type": "markdown",
   "metadata": {},
   "source": [
    "### 1. Buscando Conjunto de Dados WebLink"
   ]
  },
  {
   "cell_type": "code",
   "execution_count": 35,
   "metadata": {},
   "outputs": [],
   "source": [
    "# Script para buscar conjuto de dados pelo link\n",
    "import requests\n",
    "\n",
    "url = \"https://data.brasil.io/dataset/gastos-deputados/cota_parlamentar.csv.gz\"\n",
    "filename = url.split(\"/\")[-1]\n",
    "with open(filename, \"wb\") as f:\n",
    "    r = requests.get(url)\n",
    "    f.write(r.content)"
   ]
  },
  {
   "cell_type": "markdown",
   "metadata": {},
   "source": [
    "### 2. Importando Conjunto de Dados Compactado"
   ]
  },
  {
   "cell_type": "code",
   "execution_count": 36,
   "metadata": {
    "scrolled": true
   },
   "outputs": [
    {
     "data": {
      "text/html": [
       "<div>\n",
       "<style scoped>\n",
       "    .dataframe tbody tr th:only-of-type {\n",
       "        vertical-align: middle;\n",
       "    }\n",
       "\n",
       "    .dataframe tbody tr th {\n",
       "        vertical-align: top;\n",
       "    }\n",
       "\n",
       "    .dataframe thead th {\n",
       "        text-align: right;\n",
       "    }\n",
       "</style>\n",
       "<table border=\"1\" class=\"dataframe\">\n",
       "  <thead>\n",
       "    <tr style=\"text-align: right;\">\n",
       "      <th></th>\n",
       "      <th>codlegislatura</th>\n",
       "      <th>datemissao</th>\n",
       "      <th>idedocumento</th>\n",
       "      <th>idecadastro</th>\n",
       "      <th>indtipodocumento</th>\n",
       "      <th>nucarteiraparlamentar</th>\n",
       "      <th>nudeputadoid</th>\n",
       "      <th>nulegislatura</th>\n",
       "      <th>numano</th>\n",
       "      <th>numespecificacaosubcota</th>\n",
       "      <th>...</th>\n",
       "      <th>txtdescricao</th>\n",
       "      <th>txtdescricaoespecificacao</th>\n",
       "      <th>txtfornecedor</th>\n",
       "      <th>txtnumero</th>\n",
       "      <th>txtpassageiro</th>\n",
       "      <th>txttrecho</th>\n",
       "      <th>vlrdocumento</th>\n",
       "      <th>vlrglosa</th>\n",
       "      <th>vlrliquido</th>\n",
       "      <th>vlrrestituicao</th>\n",
       "    </tr>\n",
       "  </thead>\n",
       "  <tbody>\n",
       "    <tr>\n",
       "      <th>0</th>\n",
       "      <td>56</td>\n",
       "      <td>2020-02-01 00:00:00</td>\n",
       "      <td>7007086</td>\n",
       "      <td>NaN</td>\n",
       "      <td>0</td>\n",
       "      <td>NaN</td>\n",
       "      <td>2442</td>\n",
       "      <td>2019</td>\n",
       "      <td>2020</td>\n",
       "      <td>0</td>\n",
       "      <td>...</td>\n",
       "      <td>DIVULGAÇÃO DA ATIVIDADE PARLAMENTAR.</td>\n",
       "      <td>NaN</td>\n",
       "      <td>CONTENT ASSESSORIA LTDA - ME</td>\n",
       "      <td>432</td>\n",
       "      <td>NaN</td>\n",
       "      <td>NaN</td>\n",
       "      <td>998.0</td>\n",
       "      <td>0.0</td>\n",
       "      <td>998.0</td>\n",
       "      <td>NaN</td>\n",
       "    </tr>\n",
       "    <tr>\n",
       "      <th>1</th>\n",
       "      <td>56</td>\n",
       "      <td>2020-02-13 00:00:00</td>\n",
       "      <td>7017162</td>\n",
       "      <td>NaN</td>\n",
       "      <td>4</td>\n",
       "      <td>NaN</td>\n",
       "      <td>2442</td>\n",
       "      <td>2019</td>\n",
       "      <td>2020</td>\n",
       "      <td>0</td>\n",
       "      <td>...</td>\n",
       "      <td>DIVULGAÇÃO DA ATIVIDADE PARLAMENTAR.</td>\n",
       "      <td>NaN</td>\n",
       "      <td>METROPOLE INTERATIVA INFORMATICA LTDA</td>\n",
       "      <td>46</td>\n",
       "      <td>NaN</td>\n",
       "      <td>NaN</td>\n",
       "      <td>4920.0</td>\n",
       "      <td>0.0</td>\n",
       "      <td>4920.0</td>\n",
       "      <td>NaN</td>\n",
       "    </tr>\n",
       "    <tr>\n",
       "      <th>2</th>\n",
       "      <td>56</td>\n",
       "      <td>2020-02-04 00:00:00</td>\n",
       "      <td>7007754</td>\n",
       "      <td>NaN</td>\n",
       "      <td>4</td>\n",
       "      <td>NaN</td>\n",
       "      <td>2442</td>\n",
       "      <td>2019</td>\n",
       "      <td>2020</td>\n",
       "      <td>0</td>\n",
       "      <td>...</td>\n",
       "      <td>FORNECIMENTO DE ALIMENTAÇÃO DO PARLAMENTAR</td>\n",
       "      <td>NaN</td>\n",
       "      <td>AFC ALIMENTOS LTDA</td>\n",
       "      <td>306</td>\n",
       "      <td>NaN</td>\n",
       "      <td>NaN</td>\n",
       "      <td>511.0</td>\n",
       "      <td>0.0</td>\n",
       "      <td>511.0</td>\n",
       "      <td>NaN</td>\n",
       "    </tr>\n",
       "    <tr>\n",
       "      <th>3</th>\n",
       "      <td>56</td>\n",
       "      <td>2020-02-18 00:00:00</td>\n",
       "      <td>7018634</td>\n",
       "      <td>NaN</td>\n",
       "      <td>4</td>\n",
       "      <td>NaN</td>\n",
       "      <td>2442</td>\n",
       "      <td>2019</td>\n",
       "      <td>2020</td>\n",
       "      <td>0</td>\n",
       "      <td>...</td>\n",
       "      <td>FORNECIMENTO DE ALIMENTAÇÃO DO PARLAMENTAR</td>\n",
       "      <td>NaN</td>\n",
       "      <td>AFC ALIMENTOS LTDA</td>\n",
       "      <td>311</td>\n",
       "      <td>NaN</td>\n",
       "      <td>NaN</td>\n",
       "      <td>186.0</td>\n",
       "      <td>0.0</td>\n",
       "      <td>186.0</td>\n",
       "      <td>NaN</td>\n",
       "    </tr>\n",
       "    <tr>\n",
       "      <th>4</th>\n",
       "      <td>56</td>\n",
       "      <td>2020-02-11 00:00:00</td>\n",
       "      <td>7011106</td>\n",
       "      <td>NaN</td>\n",
       "      <td>4</td>\n",
       "      <td>NaN</td>\n",
       "      <td>2442</td>\n",
       "      <td>2019</td>\n",
       "      <td>2020</td>\n",
       "      <td>0</td>\n",
       "      <td>...</td>\n",
       "      <td>FORNECIMENTO DE ALIMENTAÇÃO DO PARLAMENTAR</td>\n",
       "      <td>NaN</td>\n",
       "      <td>ARTESANAL SERVICOS DE ALIMENTACAO E BUFFET EIRELI</td>\n",
       "      <td>23</td>\n",
       "      <td>NaN</td>\n",
       "      <td>NaN</td>\n",
       "      <td>740.0</td>\n",
       "      <td>0.0</td>\n",
       "      <td>740.0</td>\n",
       "      <td>NaN</td>\n",
       "    </tr>\n",
       "  </tbody>\n",
       "</table>\n",
       "<p>5 rows × 29 columns</p>\n",
       "</div>"
      ],
      "text/plain": [
       "   codlegislatura           datemissao  idedocumento  idecadastro  \\\n",
       "0              56  2020-02-01 00:00:00       7007086          NaN   \n",
       "1              56  2020-02-13 00:00:00       7017162          NaN   \n",
       "2              56  2020-02-04 00:00:00       7007754          NaN   \n",
       "3              56  2020-02-18 00:00:00       7018634          NaN   \n",
       "4              56  2020-02-11 00:00:00       7011106          NaN   \n",
       "\n",
       "   indtipodocumento  nucarteiraparlamentar  nudeputadoid  nulegislatura  \\\n",
       "0                 0                    NaN          2442           2019   \n",
       "1                 4                    NaN          2442           2019   \n",
       "2                 4                    NaN          2442           2019   \n",
       "3                 4                    NaN          2442           2019   \n",
       "4                 4                    NaN          2442           2019   \n",
       "\n",
       "   numano  numespecificacaosubcota  ...  \\\n",
       "0    2020                        0  ...   \n",
       "1    2020                        0  ...   \n",
       "2    2020                        0  ...   \n",
       "3    2020                        0  ...   \n",
       "4    2020                        0  ...   \n",
       "\n",
       "                                 txtdescricao  txtdescricaoespecificacao  \\\n",
       "0        DIVULGAÇÃO DA ATIVIDADE PARLAMENTAR.                        NaN   \n",
       "1        DIVULGAÇÃO DA ATIVIDADE PARLAMENTAR.                        NaN   \n",
       "2  FORNECIMENTO DE ALIMENTAÇÃO DO PARLAMENTAR                        NaN   \n",
       "3  FORNECIMENTO DE ALIMENTAÇÃO DO PARLAMENTAR                        NaN   \n",
       "4  FORNECIMENTO DE ALIMENTAÇÃO DO PARLAMENTAR                        NaN   \n",
       "\n",
       "                                       txtfornecedor  txtnumero  \\\n",
       "0                       CONTENT ASSESSORIA LTDA - ME        432   \n",
       "1              METROPOLE INTERATIVA INFORMATICA LTDA         46   \n",
       "2                                 AFC ALIMENTOS LTDA        306   \n",
       "3                                 AFC ALIMENTOS LTDA        311   \n",
       "4  ARTESANAL SERVICOS DE ALIMENTACAO E BUFFET EIRELI         23   \n",
       "\n",
       "   txtpassageiro txttrecho vlrdocumento vlrglosa  vlrliquido vlrrestituicao  \n",
       "0            NaN       NaN        998.0      0.0       998.0            NaN  \n",
       "1            NaN       NaN       4920.0      0.0      4920.0            NaN  \n",
       "2            NaN       NaN        511.0      0.0       511.0            NaN  \n",
       "3            NaN       NaN        186.0      0.0       186.0            NaN  \n",
       "4            NaN       NaN        740.0      0.0       740.0            NaN  \n",
       "\n",
       "[5 rows x 29 columns]"
      ]
     },
     "execution_count": 36,
     "metadata": {},
     "output_type": "execute_result"
    }
   ],
   "source": [
    "# Importando conjunto de dados com Pandas\n",
    "dataframe = pd.read_csv('cota_parlamentar.csv.gz', compression='gzip', error_bad_lines=False)\n",
    "dataframe.head(5)"
   ]
  },
  {
   "cell_type": "markdown",
   "metadata": {},
   "source": [
    "### 3. Análise Exploratória dos Dados"
   ]
  },
  {
   "cell_type": "markdown",
   "metadata": {},
   "source": [
    "#### 3.1 Shape do DataFrame"
   ]
  },
  {
   "cell_type": "code",
   "execution_count": 37,
   "metadata": {},
   "outputs": [
    {
     "data": {
      "text/plain": [
       "(3855649, 29)"
      ]
     },
     "execution_count": 37,
     "metadata": {},
     "output_type": "execute_result"
    }
   ],
   "source": [
    "# Verificando tamanho do DataFrame\n",
    "dataframe.shape"
   ]
  },
  {
   "cell_type": "markdown",
   "metadata": {},
   "source": [
    "#### 3.2 Colunas do DataFrame"
   ]
  },
  {
   "cell_type": "code",
   "execution_count": 38,
   "metadata": {},
   "outputs": [
    {
     "data": {
      "text/plain": [
       "Index(['codlegislatura', 'datemissao', 'idedocumento', 'idecadastro',\n",
       "       'indtipodocumento', 'nucarteiraparlamentar', 'nudeputadoid',\n",
       "       'nulegislatura', 'numano', 'numespecificacaosubcota', 'numlote',\n",
       "       'nummes', 'numparcela', 'numressarcimento', 'numsubcota', 'sgpartido',\n",
       "       'sguf', 'txnomeparlamentar', 'txtcnpjcpf', 'txtdescricao',\n",
       "       'txtdescricaoespecificacao', 'txtfornecedor', 'txtnumero',\n",
       "       'txtpassageiro', 'txttrecho', 'vlrdocumento', 'vlrglosa', 'vlrliquido',\n",
       "       'vlrrestituicao'],\n",
       "      dtype='object')"
      ]
     },
     "execution_count": 38,
     "metadata": {},
     "output_type": "execute_result"
    }
   ],
   "source": [
    "# Conhecendo as colunas\n",
    "dataframe.columns"
   ]
  },
  {
   "cell_type": "markdown",
   "metadata": {},
   "source": [
    "#### 3.3 Tipos de Dados"
   ]
  },
  {
   "cell_type": "code",
   "execution_count": 39,
   "metadata": {},
   "outputs": [
    {
     "data": {
      "text/plain": [
       "codlegislatura                 int64\n",
       "datemissao                    object\n",
       "idedocumento                   int64\n",
       "idecadastro                  float64\n",
       "indtipodocumento               int64\n",
       "nucarteiraparlamentar        float64\n",
       "nudeputadoid                   int64\n",
       "nulegislatura                  int64\n",
       "numano                         int64\n",
       "numespecificacaosubcota        int64\n",
       "numlote                        int64\n",
       "nummes                         int64\n",
       "numparcela                     int64\n",
       "numressarcimento             float64\n",
       "numsubcota                     int64\n",
       "sgpartido                     object\n",
       "sguf                          object\n",
       "txnomeparlamentar             object\n",
       "txtcnpjcpf                     int64\n",
       "txtdescricao                  object\n",
       "txtdescricaoespecificacao     object\n",
       "txtfornecedor                 object\n",
       "txtnumero                     object\n",
       "txtpassageiro                 object\n",
       "txttrecho                     object\n",
       "vlrdocumento                 float64\n",
       "vlrglosa                     float64\n",
       "vlrliquido                   float64\n",
       "vlrrestituicao               float64\n",
       "dtype: object"
      ]
     },
     "execution_count": 39,
     "metadata": {},
     "output_type": "execute_result"
    }
   ],
   "source": [
    "# Conhecendo os tipos de dados\n",
    "dataframe.dtypes"
   ]
  },
  {
   "cell_type": "markdown",
   "metadata": {},
   "source": [
    "#### 3.4 Colunas Duplicadas"
   ]
  },
  {
   "cell_type": "code",
   "execution_count": 40,
   "metadata": {},
   "outputs": [
    {
     "name": "stdout",
     "output_type": "stream",
     "text": [
      "Colunas únicas: 29 Total Colunas 29\n"
     ]
    }
   ],
   "source": [
    " # Verificando se possui colunas duplicadas\n",
    "col_unique = []\n",
    "col_names = [col_unique.append(x) for x in dataframe.columns if x not in col_unique]\n",
    "print(\"Colunas únicas:\", len(col_unique), \"Total Colunas\", len(dataframe.axes[1]))"
   ]
  },
  {
   "cell_type": "markdown",
   "metadata": {},
   "source": [
    "#### 3.5 Percentual de Colunas NA"
   ]
  },
  {
   "cell_type": "code",
   "execution_count": 41,
   "metadata": {},
   "outputs": [
    {
     "data": {
      "text/plain": [
       "codlegislatura                0.000000\n",
       "datemissao                    4.941970\n",
       "idedocumento                  0.000000\n",
       "idecadastro                   0.142778\n",
       "indtipodocumento              0.000000\n",
       "nucarteiraparlamentar         0.142596\n",
       "nudeputadoid                  0.000000\n",
       "nulegislatura                 0.000000\n",
       "numano                        0.000000\n",
       "numespecificacaosubcota       0.000000\n",
       "numlote                       0.000000\n",
       "nummes                        0.000000\n",
       "numparcela                    0.000000\n",
       "numressarcimento             55.032318\n",
       "numsubcota                    0.000000\n",
       "sgpartido                     0.000000\n",
       "sguf                          0.142778\n",
       "txnomeparlamentar             0.000000\n",
       "txtcnpjcpf                    0.000000\n",
       "txtdescricao                  0.000000\n",
       "txtdescricaoespecificacao    79.648459\n",
       "txtfornecedor                 0.000233\n",
       "txtnumero                     0.000233\n",
       "txtpassageiro                74.277975\n",
       "txttrecho                    73.958548\n",
       "vlrdocumento                  0.000441\n",
       "vlrglosa                      0.000000\n",
       "vlrliquido                    0.000000\n",
       "vlrrestituicao               99.970174\n",
       "dtype: float64"
      ]
     },
     "execution_count": 41,
     "metadata": {},
     "output_type": "execute_result"
    }
   ],
   "source": [
    "# Verificando Porcentagem de Valores NA\n",
    "(dataframe.isnull().sum(axis = 0) / len(dataframe.axes[0])) * 100"
   ]
  },
  {
   "cell_type": "markdown",
   "metadata": {},
   "source": [
    "### 4. Análise Estatística dos Dados"
   ]
  },
  {
   "cell_type": "markdown",
   "metadata": {},
   "source": [
    "#### 4.1 Distribuição dos Dados"
   ]
  },
  {
   "cell_type": "code",
   "execution_count": 76,
   "metadata": {
    "scrolled": true
   },
   "outputs": [
    {
     "data": {
      "image/png": "[encoded data removed]",
      "text/plain": [
       "<Figure size 2160x1440 with 20 Axes>"
      ]
     },
     "metadata": {
      "needs_background": "light"
     },
     "output_type": "display_data"
    }
   ],
   "source": [
    "#Verificando distribuição dos dados\n",
    "dataframe.hist()\n",
    "plt.show()\n",
    "plt.rcParams[\"figure.figsize\"] = (20,20)"
   ]
  },
  {
   "cell_type": "markdown",
   "metadata": {},
   "source": [
    "#### 4.2 Resumos Estatísticos das Variáveis"
   ]
  },
  {
   "cell_type": "code",
   "execution_count": 43,
   "metadata": {},
   "outputs": [
    {
     "data": {
      "text/html": [
       "<div>\n",
       "<style scoped>\n",
       "    .dataframe tbody tr th:only-of-type {\n",
       "        vertical-align: middle;\n",
       "    }\n",
       "\n",
       "    .dataframe tbody tr th {\n",
       "        vertical-align: top;\n",
       "    }\n",
       "\n",
       "    .dataframe thead th {\n",
       "        text-align: right;\n",
       "    }\n",
       "</style>\n",
       "<table border=\"1\" class=\"dataframe\">\n",
       "  <thead>\n",
       "    <tr style=\"text-align: right;\">\n",
       "      <th></th>\n",
       "      <th>codlegislatura</th>\n",
       "      <th>idedocumento</th>\n",
       "      <th>idecadastro</th>\n",
       "      <th>indtipodocumento</th>\n",
       "      <th>nucarteiraparlamentar</th>\n",
       "      <th>nudeputadoid</th>\n",
       "      <th>nulegislatura</th>\n",
       "      <th>numano</th>\n",
       "      <th>numespecificacaosubcota</th>\n",
       "      <th>numlote</th>\n",
       "      <th>nummes</th>\n",
       "      <th>numparcela</th>\n",
       "      <th>numressarcimento</th>\n",
       "      <th>numsubcota</th>\n",
       "      <th>txtcnpjcpf</th>\n",
       "      <th>vlrdocumento</th>\n",
       "      <th>vlrglosa</th>\n",
       "      <th>vlrliquido</th>\n",
       "      <th>vlrrestituicao</th>\n",
       "    </tr>\n",
       "  </thead>\n",
       "  <tbody>\n",
       "    <tr>\n",
       "      <th>count</th>\n",
       "      <td>3.855649e+06</td>\n",
       "      <td>3.855649e+06</td>\n",
       "      <td>3.850144e+06</td>\n",
       "      <td>3.855649e+06</td>\n",
       "      <td>3.850151e+06</td>\n",
       "      <td>3.855649e+06</td>\n",
       "      <td>3.855649e+06</td>\n",
       "      <td>3.855649e+06</td>\n",
       "      <td>3.855649e+06</td>\n",
       "      <td>3.855649e+06</td>\n",
       "      <td>3.855649e+06</td>\n",
       "      <td>3.855649e+06</td>\n",
       "      <td>1733796.0</td>\n",
       "      <td>3.855649e+06</td>\n",
       "      <td>3.855649e+06</td>\n",
       "      <td>3.855632e+06</td>\n",
       "      <td>3.855649e+06</td>\n",
       "      <td>3.855649e+06</td>\n",
       "      <td>1150.000000</td>\n",
       "    </tr>\n",
       "    <tr>\n",
       "      <th>mean</th>\n",
       "      <td>5.435852e+01</td>\n",
       "      <td>2.729065e+06</td>\n",
       "      <td>1.286019e+05</td>\n",
       "      <td>3.411021e-01</td>\n",
       "      <td>3.146683e+02</td>\n",
       "      <td>1.974208e+03</td>\n",
       "      <td>2.012434e+03</td>\n",
       "      <td>2.013999e+03</td>\n",
       "      <td>2.209231e-01</td>\n",
       "      <td>5.622804e+05</td>\n",
       "      <td>6.574990e+00</td>\n",
       "      <td>1.758459e-04</td>\n",
       "      <td>0.0</td>\n",
       "      <td>2.668642e+02</td>\n",
       "      <td>1.108942e+13</td>\n",
       "      <td>5.505108e+02</td>\n",
       "      <td>4.765311e+00</td>\n",
       "      <td>5.444028e+02</td>\n",
       "      <td>962.241861</td>\n",
       "    </tr>\n",
       "    <tr>\n",
       "      <th>std</th>\n",
       "      <td>8.426546e-01</td>\n",
       "      <td>2.533703e+06</td>\n",
       "      <td>4.413991e+04</td>\n",
       "      <td>8.083297e-01</td>\n",
       "      <td>1.657848e+02</td>\n",
       "      <td>7.552428e+02</td>\n",
       "      <td>3.370618e+00</td>\n",
       "      <td>3.023998e+00</td>\n",
       "      <td>4.899672e-01</td>\n",
       "      <td>5.940902e+05</td>\n",
       "      <td>3.310913e+00</td>\n",
       "      <td>1.325953e-02</td>\n",
       "      <td>0.0</td>\n",
       "      <td>4.295009e+02</td>\n",
       "      <td>1.888940e+13</td>\n",
       "      <td>1.955870e+03</td>\n",
       "      <td>1.384766e+02</td>\n",
       "      <td>1.935002e+03</td>\n",
       "      <td>2986.046729</td>\n",
       "    </tr>\n",
       "    <tr>\n",
       "      <th>min</th>\n",
       "      <td>5.300000e+01</td>\n",
       "      <td>0.000000e+00</td>\n",
       "      <td>3.151000e+03</td>\n",
       "      <td>0.000000e+00</td>\n",
       "      <td>1.000000e+00</td>\n",
       "      <td>1.200000e+01</td>\n",
       "      <td>2.007000e+03</td>\n",
       "      <td>2.009000e+03</td>\n",
       "      <td>0.000000e+00</td>\n",
       "      <td>0.000000e+00</td>\n",
       "      <td>1.000000e+00</td>\n",
       "      <td>0.000000e+00</td>\n",
       "      <td>0.0</td>\n",
       "      <td>1.000000e+00</td>\n",
       "      <td>0.000000e+00</td>\n",
       "      <td>-2.097470e+04</td>\n",
       "      <td>0.000000e+00</td>\n",
       "      <td>-2.097470e+04</td>\n",
       "      <td>1.000000</td>\n",
       "    </tr>\n",
       "    <tr>\n",
       "      <th>25%</th>\n",
       "      <td>5.400000e+01</td>\n",
       "      <td>0.000000e+00</td>\n",
       "      <td>7.439500e+04</td>\n",
       "      <td>0.000000e+00</td>\n",
       "      <td>1.830000e+02</td>\n",
       "      <td>1.552000e+03</td>\n",
       "      <td>2.011000e+03</td>\n",
       "      <td>2.011000e+03</td>\n",
       "      <td>0.000000e+00</td>\n",
       "      <td>0.000000e+00</td>\n",
       "      <td>4.000000e+00</td>\n",
       "      <td>0.000000e+00</td>\n",
       "      <td>0.0</td>\n",
       "      <td>3.000000e+00</td>\n",
       "      <td>5.212940e+11</td>\n",
       "      <td>4.088000e+01</td>\n",
       "      <td>0.000000e+00</td>\n",
       "      <td>4.019000e+01</td>\n",
       "      <td>43.190000</td>\n",
       "    </tr>\n",
       "    <tr>\n",
       "      <th>50%</th>\n",
       "      <td>5.400000e+01</td>\n",
       "      <td>1.786225e+06</td>\n",
       "      <td>1.414780e+05</td>\n",
       "      <td>0.000000e+00</td>\n",
       "      <td>3.160000e+02</td>\n",
       "      <td>1.926000e+03</td>\n",
       "      <td>2.011000e+03</td>\n",
       "      <td>2.014000e+03</td>\n",
       "      <td>0.000000e+00</td>\n",
       "      <td>4.564800e+05</td>\n",
       "      <td>7.000000e+00</td>\n",
       "      <td>0.000000e+00</td>\n",
       "      <td>0.0</td>\n",
       "      <td>1.100000e+01</td>\n",
       "      <td>4.061928e+12</td>\n",
       "      <td>1.280000e+02</td>\n",
       "      <td>0.000000e+00</td>\n",
       "      <td>1.263100e+02</td>\n",
       "      <td>118.565000</td>\n",
       "    </tr>\n",
       "    <tr>\n",
       "      <th>75%</th>\n",
       "      <td>5.500000e+01</td>\n",
       "      <td>5.595603e+06</td>\n",
       "      <td>1.606390e+05</td>\n",
       "      <td>0.000000e+00</td>\n",
       "      <td>4.630000e+02</td>\n",
       "      <td>2.393000e+03</td>\n",
       "      <td>2.015000e+03</td>\n",
       "      <td>2.016000e+03</td>\n",
       "      <td>0.000000e+00</td>\n",
       "      <td>1.165132e+06</td>\n",
       "      <td>9.000000e+00</td>\n",
       "      <td>0.000000e+00</td>\n",
       "      <td>0.0</td>\n",
       "      <td>9.990000e+02</td>\n",
       "      <td>9.296295e+12</td>\n",
       "      <td>4.378025e+02</td>\n",
       "      <td>0.000000e+00</td>\n",
       "      <td>4.335300e+02</td>\n",
       "      <td>375.970000</td>\n",
       "    </tr>\n",
       "    <tr>\n",
       "      <th>max</th>\n",
       "      <td>5.600000e+01</td>\n",
       "      <td>7.033421e+06</td>\n",
       "      <td>2.132740e+05</td>\n",
       "      <td>4.000000e+00</td>\n",
       "      <td>6.740000e+02</td>\n",
       "      <td>3.466000e+03</td>\n",
       "      <td>2.019000e+03</td>\n",
       "      <td>2.020000e+03</td>\n",
       "      <td>4.000000e+00</td>\n",
       "      <td>1.685002e+06</td>\n",
       "      <td>1.200000e+01</td>\n",
       "      <td>1.000000e+00</td>\n",
       "      <td>0.0</td>\n",
       "      <td>9.990000e+02</td>\n",
       "      <td>9.874986e+13</td>\n",
       "      <td>2.150000e+05</td>\n",
       "      <td>8.600000e+04</td>\n",
       "      <td>2.150000e+05</td>\n",
       "      <td>73200.000000</td>\n",
       "    </tr>\n",
       "  </tbody>\n",
       "</table>\n",
       "</div>"
      ],
      "text/plain": [
       "       codlegislatura  idedocumento   idecadastro  indtipodocumento  \\\n",
       "count    3.855649e+06  3.855649e+06  3.850144e+06      3.855649e+06   \n",
       "mean     5.435852e+01  2.729065e+06  1.286019e+05      3.411021e-01   \n",
       "std      8.426546e-01  2.533703e+06  4.413991e+04      8.083297e-01   \n",
       "min      5.300000e+01  0.000000e+00  3.151000e+03      0.000000e+00   \n",
       "25%      5.400000e+01  0.000000e+00  7.439500e+04      0.000000e+00   \n",
       "50%      5.400000e+01  1.786225e+06  1.414780e+05      0.000000e+00   \n",
       "75%      5.500000e+01  5.595603e+06  1.606390e+05      0.000000e+00   \n",
       "max      5.600000e+01  7.033421e+06  2.132740e+05      4.000000e+00   \n",
       "\n",
       "       nucarteiraparlamentar  nudeputadoid  nulegislatura        numano  \\\n",
       "count           3.850151e+06  3.855649e+06   3.855649e+06  3.855649e+06   \n",
       "mean            3.146683e+02  1.974208e+03   2.012434e+03  2.013999e+03   \n",
       "std             1.657848e+02  7.552428e+02   3.370618e+00  3.023998e+00   \n",
       "min             1.000000e+00  1.200000e+01   2.007000e+03  2.009000e+03   \n",
       "25%             1.830000e+02  1.552000e+03   2.011000e+03  2.011000e+03   \n",
       "50%             3.160000e+02  1.926000e+03   2.011000e+03  2.014000e+03   \n",
       "75%             4.630000e+02  2.393000e+03   2.015000e+03  2.016000e+03   \n",
       "max             6.740000e+02  3.466000e+03   2.019000e+03  2.020000e+03   \n",
       "\n",
       "       numespecificacaosubcota       numlote        nummes    numparcela  \\\n",
       "count             3.855649e+06  3.855649e+06  3.855649e+06  3.855649e+06   \n",
       "mean              2.209231e-01  5.622804e+05  6.574990e+00  1.758459e-04   \n",
       "std               4.899672e-01  5.940902e+05  3.310913e+00  1.325953e-02   \n",
       "min               0.000000e+00  0.000000e+00  1.000000e+00  0.000000e+00   \n",
       "25%               0.000000e+00  0.000000e+00  4.000000e+00  0.000000e+00   \n",
       "50%               0.000000e+00  4.564800e+05  7.000000e+00  0.000000e+00   \n",
       "75%               0.000000e+00  1.165132e+06  9.000000e+00  0.000000e+00   \n",
       "max               4.000000e+00  1.685002e+06  1.200000e+01  1.000000e+00   \n",
       "\n",
       "       numressarcimento    numsubcota    txtcnpjcpf  vlrdocumento  \\\n",
       "count         1733796.0  3.855649e+06  3.855649e+06  3.855632e+06   \n",
       "mean                0.0  2.668642e+02  1.108942e+13  5.505108e+02   \n",
       "std                 0.0  4.295009e+02  1.888940e+13  1.955870e+03   \n",
       "min                 0.0  1.000000e+00  0.000000e+00 -2.097470e+04   \n",
       "25%                 0.0  3.000000e+00  5.212940e+11  4.088000e+01   \n",
       "50%                 0.0  1.100000e+01  4.061928e+12  1.280000e+02   \n",
       "75%                 0.0  9.990000e+02  9.296295e+12  4.378025e+02   \n",
       "max                 0.0  9.990000e+02  9.874986e+13  2.150000e+05   \n",
       "\n",
       "           vlrglosa    vlrliquido  vlrrestituicao  \n",
       "count  3.855649e+06  3.855649e+06     1150.000000  \n",
       "mean   4.765311e+00  5.444028e+02      962.241861  \n",
       "std    1.384766e+02  1.935002e+03     2986.046729  \n",
       "min    0.000000e+00 -2.097470e+04        1.000000  \n",
       "25%    0.000000e+00  4.019000e+01       43.190000  \n",
       "50%    0.000000e+00  1.263100e+02      118.565000  \n",
       "75%    0.000000e+00  4.335300e+02      375.970000  \n",
       "max    8.600000e+04  2.150000e+05    73200.000000  "
      ]
     },
     "execution_count": 43,
     "metadata": {},
     "output_type": "execute_result"
    }
   ],
   "source": [
    "# Conhecendo os resumos estatísticos das variáveis\n",
    "dataframe.describe()"
   ]
  },
  {
   "cell_type": "markdown",
   "metadata": {},
   "source": [
    "### 5. Manipulando Estrutura do DataFrame"
   ]
  },
  {
   "cell_type": "markdown",
   "metadata": {},
   "source": [
    "#### 5.1 Removendo Colunas NA"
   ]
  },
  {
   "cell_type": "code",
   "execution_count": 44,
   "metadata": {},
   "outputs": [],
   "source": [
    "# Removendo Colunas com mais de 50% valores NA\n",
    "del dataframe['numressarcimento']\n",
    "del dataframe['txtdescricaoespecificacao']\n",
    "del dataframe['txtpassageiro']\n",
    "del dataframe['txttrecho']\n",
    "del dataframe['vlrrestituicao']\n",
    "\n",
    "# Removendo demais valores NA (menos de 1.5% não afetam nossa análise)\n",
    "dataframe = dataframe.dropna()"
   ]
  },
  {
   "cell_type": "markdown",
   "metadata": {},
   "source": [
    "### 6. Visualização Dashboard"
   ]
  },
  {
   "cell_type": "markdown",
   "metadata": {},
   "source": [
    "#### 6.1 Débito Cota Parlamentar"
   ]
  },
  {
   "cell_type": "code",
   "execution_count": 45,
   "metadata": {
    "scrolled": true
   },
   "outputs": [
    {
     "data": {
      "image/png": "[encoded data removed]",
      "text/plain": [
       "<Figure size 1224x432 with 1 Axes>"
      ]
     },
     "metadata": {
      "needs_background": "light"
     },
     "output_type": "display_data"
    }
   ],
   "source": [
    "# Análise Débito Cota Parlamentar\n",
    "debito_cota = dataframe.groupby(by=[\"idecadastro\", \"txnomeparlamentar\"])['vlrliquido'].sum().to_frame('total_debitado').sort_values('total_debitado', ascending = False).reset_index()\n",
    "debito_cota = debito_cota.head(15)\n",
    "\n",
    "# Inicializando a figura do gráfico.\n",
    "f, ax = plt.subplots(figsize=(17,6))\n",
    "\n",
    "# Plotando gráfico.\n",
    "sns.barplot(x=\"total_debitado\", y=\"txnomeparlamentar\", data=debito_cota, palette=\"magma\")\n",
    "\n",
    "ax.set(title=\"Débito Cota Parlamentar\", ylabel =\"\", xlabel = \"Total\")\n",
    "sns.despine(left=True, bottom=True)"
   ]
  },
  {
   "cell_type": "markdown",
   "metadata": {},
   "source": [
    "#### 6.2 Débito Cota por Estado"
   ]
  },
  {
   "cell_type": "code",
   "execution_count": 46,
   "metadata": {},
   "outputs": [
    {
     "data": {
      "image/png": "[encoded data removed]",
      "text/plain": [
       "<Figure size 1224x432 with 1 Axes>"
      ]
     },
     "metadata": {
      "needs_background": "light"
     },
     "output_type": "display_data"
    }
   ],
   "source": [
    "# Análise Débito Cota por Estado\n",
    "debito_cota_uf = dataframe.groupby(by=[\"sguf\"])['vlrliquido'].sum().to_frame('total_debitado_uf').sort_values('total_debitado_uf', ascending = False).reset_index()\n",
    "\n",
    "# Inicializando a figura do gráfico.\n",
    "f, ax = plt.subplots(figsize=(17,6))\n",
    "\n",
    "# Plotando gráfico.\n",
    "sns.barplot(x=\"sguf\", y=\"total_debitado_uf\", data=debito_cota_uf, palette=\"magma\")\n",
    "\n",
    "ax.set(title=\"Débito Cota por Estado\", ylabel =\"Total\", xlabel = \"\")\n",
    "sns.despine(left=True, bottom=True)"
   ]
  },
  {
   "cell_type": "markdown",
   "metadata": {},
   "source": [
    "#### 6.3 Débito Cota por Partido"
   ]
  },
  {
   "cell_type": "code",
   "execution_count": 47,
   "metadata": {},
   "outputs": [
    {
     "data": {
      "image/png": "[encoded data removed]",
      "text/plain": [
       "<Figure size 1224x432 with 1 Axes>"
      ]
     },
     "metadata": {
      "needs_background": "light"
     },
     "output_type": "display_data"
    }
   ],
   "source": [
    "# Análise Débito Cota por Partido\n",
    "debito_cota_partido = dataframe.groupby(by=[\"sgpartido\"])['vlrliquido'].sum().to_frame('total_debitado_partido').sort_values('total_debitado_partido', ascending = False).reset_index()\n",
    "debito_cota_partido = debito_cota_partido.head(20)\n",
    "\n",
    "# Inicializando a figura do gráfico.\n",
    "f, ax = plt.subplots(figsize=(17,6))\n",
    "\n",
    "# Plotando gráfico.\n",
    "sns.barplot(x=\"total_debitado_partido\", y=\"sgpartido\", data=debito_cota_partido, palette=\"magma\")\n",
    "\n",
    "ax.set(title=\"Débito Cota por Partido\", ylabel =\"\", xlabel = \"Total\")\n",
    "sns.despine(left=True, bottom=True)"
   ]
  },
  {
   "cell_type": "markdown",
   "metadata": {},
   "source": [
    "#### 6.4 Deputados por Partido"
   ]
  },
  {
   "cell_type": "code",
   "execution_count": 48,
   "metadata": {},
   "outputs": [
    {
     "data": {
      "image/png": "[encoded data removed]",
      "text/plain": [
       "<Figure size 1224x432 with 1 Axes>"
      ]
     },
     "metadata": {
      "needs_background": "light"
     },
     "output_type": "display_data"
    }
   ],
   "source": [
    "# Análise Deputados por Partido\n",
    "total_deputado_partido = dataframe.groupby(by=[\"sgpartido\"])['idecadastro'].nunique().to_frame('total_deputado_partido').sort_values('total_deputado_partido', ascending = False).reset_index()\n",
    "total_deputado_partido = total_deputado_partido.head(15)\n",
    "\n",
    "# Inicializando a figura do gráfico.\n",
    "f, ax = plt.subplots(figsize=(17,6))\n",
    "\n",
    "# Plotando gráfico.\n",
    "sns.barplot(x=\"sgpartido\", y=\"total_deputado_partido\", data=total_deputado_partido, palette=\"magma\")\n",
    "\n",
    "ax.set(title=\"Deputados por Partido\", ylabel =\"Total\", xlabel = \"\")\n",
    "sns.despine(left=True, bottom=True)"
   ]
  },
  {
   "cell_type": "markdown",
   "metadata": {},
   "source": [
    "#### 6.5 Valor Líquido por Fornecedor"
   ]
  },
  {
   "cell_type": "code",
   "execution_count": 51,
   "metadata": {},
   "outputs": [
    {
     "data": {
      "image/png": "[encoded data removed]",
      "text/plain": [
       "<Figure size 1224x432 with 1 Axes>"
      ]
     },
     "metadata": {
      "needs_background": "light"
     },
     "output_type": "display_data"
    }
   ],
   "source": [
    "# Análise Valor Líquido por Fornecedor\n",
    "total_liquido_fornec = dataframe.groupby(by=[\"txtfornecedor\"])['vlrliquido'].sum().to_frame('total_liquido_fornec').sort_values('total_liquido_fornec', ascending = False).reset_index()\n",
    "total_liquido_fornec = total_liquido_fornec.head(15)\n",
    "\n",
    "# Inicializando a figura do gráfico.\n",
    "f, ax = plt.subplots(figsize=(17,6))\n",
    "\n",
    "# Plotando gráfico.\n",
    "sns.barplot(x=\"total_liquido_fornec\", y=\"txtfornecedor\", data=total_liquido_fornec, palette=\"magma\")\n",
    "\n",
    "ax.set(title=\"Total Líquido Fornecedor\", ylabel =\"\", xlabel = \"Total\")\n",
    "sns.despine(left=True, bottom=True)"
   ]
  },
  {
   "cell_type": "markdown",
   "metadata": {},
   "source": [
    "#### 6.6 Total Líquido Anual"
   ]
  },
  {
   "cell_type": "code",
   "execution_count": 52,
   "metadata": {
    "scrolled": true
   },
   "outputs": [
    {
     "data": {
      "image/png": "[encoded data removed]",
      "text/plain": [
       "<Figure size 1224x432 with 1 Axes>"
      ]
     },
     "metadata": {
      "needs_background": "light"
     },
     "output_type": "display_data"
    }
   ],
   "source": [
    "# Análise Total Líquido Anual\n",
    "total_liquido_anual = dataframe.groupby(by=[\"numano\"])['vlrliquido'].sum().to_frame('total_liquido_anual').sort_values('numano', ascending = True).reset_index()\n",
    "\n",
    "# Inicializando a figura do gráfico.\n",
    "f, ax = plt.subplots(figsize=(17,6))\n",
    "\n",
    "# Plotando gráfico.\n",
    "sns.barplot(x=\"numano\", y=\"total_liquido_anual\", data=total_liquido_anual, palette=\"magma\")\n",
    "\n",
    "ax.set(title=\"Total Líquido Anual\", ylabel =\"Total\", xlabel = \"\")\n",
    "sns.despine(left=True, bottom=True)"
   ]
  },
  {
   "cell_type": "markdown",
   "metadata": {},
   "source": [
    "#### 6.7 Total Líquido Mensal"
   ]
  },
  {
   "cell_type": "code",
   "execution_count": 53,
   "metadata": {},
   "outputs": [
    {
     "data": {
      "image/png": "[encoded data removed]",
      "text/plain": [
       "<Figure size 1224x432 with 1 Axes>"
      ]
     },
     "metadata": {
      "needs_background": "light"
     },
     "output_type": "display_data"
    }
   ],
   "source": [
    "# Análise Total Líquido Mensal\n",
    "total_liquido_mensal = dataframe.groupby(by=[\"nummes\"])['vlrliquido'].sum().to_frame('total_liquido_mensal').sort_values('nummes', ascending = True).reset_index()\n",
    "\n",
    "# Inicializando a figura do gráfico.\n",
    "f, ax = plt.subplots(figsize=(17,6))\n",
    "\n",
    "# Plotando gráfico.\n",
    "sns.lineplot(x=\"nummes\", y=\"total_liquido_mensal\", data=total_liquido_mensal, palette=\"magma\")\n",
    "\n",
    "ax.set(title=\"Total Líquido Mensal\", ylabel =\"Total\", xlabel = \"\")\n",
    "sns.despine(left=True, bottom=True)"
   ]
  },
  {
   "cell_type": "markdown",
   "metadata": {},
   "source": [
    " "
   ]
  },
  {
   "cell_type": "markdown",
   "metadata": {},
   "source": [
    "### Guia de Referência 3\n",
    "\n",
    "<p> Neste guia realizaremos a aplicação de Machine Learning para filtrar as variáveis mais importantes para análise e utilizaremos técnicas e algoritmos para prever se as despesas vão ultrapassar a média de despesas com parlamentares. </p>\n",
    "\n",
    "1. Importação de Bibliotecas Machine Learning\n",
    "2. Variável Alvo\n",
    "3. Amostra 20% DataFrame\n",
    "4. Variáveis Preditoras e Variável Alvo\n",
    "5. Tipo de Dados\n",
    "6. Removendo Variáveis Correlatas\n",
    "7. Shape DataFrame Preditor\n",
    "8. Normalização\n",
    "    8.1 Normalização com MinMaxScaler\n",
    "    8.2 Normalização com Normalizer\n",
    "9. Análise preditiva com dados pré-processados\n",
    "    9.1 Análise Preditiva Normalização (MinMaxScaler)\n",
    "    9.2 Análise Preditiva Normalização (Normalizer)\n",
    "10. Conclusão"
   ]
  },
  {
   "cell_type": "markdown",
   "metadata": {},
   "source": [
    "### 1. Importação de Bibliotecas Machine Learning"
   ]
  },
  {
   "cell_type": "code",
   "execution_count": 54,
   "metadata": {},
   "outputs": [],
   "source": [
    "# Importando bibliotecas de Machine Learning\n",
    "from sklearn.ensemble import ExtraTreesRegressor\n",
    "from sklearn.ensemble import RandomForestRegressor\n",
    "from sklearn.tree import DecisionTreeRegressor\n",
    "from sklearn.preprocessing import MinMaxScaler\n",
    "from sklearn.preprocessing import Normalizer\n",
    "from sklearn.model_selection import train_test_split\n",
    "from sklearn.model_selection import KFold\n",
    "from sklearn.model_selection import cross_val_score\n",
    "from sklearn.model_selection import cross_validate\n",
    "from sklearn.linear_model import LogisticRegression\n",
    "from sklearn.discriminant_analysis import LinearDiscriminantAnalysis\n",
    "from sklearn.neighbors import KNeighborsRegressor\n",
    "from sklearn.naive_bayes import GaussianNB\n",
    "from sklearn.preprocessing import StandardScaler\n",
    "from sklearn.metrics import confusion_matrix\n",
    "from sklearn import preprocessing\n",
    "from sklearn import utils\n",
    "\n",
    "import warnings\n",
    "warnings.filterwarnings(\"ignore\")"
   ]
  },
  {
   "cell_type": "markdown",
   "metadata": {},
   "source": [
    "### 2. Variável Alvo"
   ]
  },
  {
   "cell_type": "code",
   "execution_count": 55,
   "metadata": {},
   "outputs": [],
   "source": [
    "# Função para saber valor médio gasto\n",
    "media_vlrliquido = dataframe['vlrliquido'].mean()\n",
    "\n",
    "# Criando variável ALVO binária (0 não passa da média | 1 passa da média)\n",
    "dataframe['ALVO'] = [1 if x > media_vlrliquido else 0 for x in dataframe['vlrliquido']]"
   ]
  },
  {
   "cell_type": "markdown",
   "metadata": {},
   "source": [
    "### 3. Amostra 20% DataFrame\n",
    "<p> Para poupar tempo de processamento e ser reproduzível mesmo quando o recurso computacional for baixo utilizaremos a divisão dos dados com o princípio de pareto, onde afirma que 80% dos efeitos vêm de 20% das causas. </p>"
   ]
  },
  {
   "cell_type": "code",
   "execution_count": 56,
   "metadata": {},
   "outputs": [
    {
     "data": {
      "text/plain": [
       "(731913, 25)"
      ]
     },
     "execution_count": 56,
     "metadata": {},
     "output_type": "execute_result"
    }
   ],
   "source": [
    "# Obtendo uma amostra randômica com 20% do DataFrame\n",
    "## Declarando um valor de seed para utilizar os mesmos valores randômicos\n",
    "seed = 2021\n",
    "amostra_dataframe = dataframe.sample(frac=0.2, replace=True, random_state=seed)\n",
    "amostra_dataframe.shape"
   ]
  },
  {
   "cell_type": "markdown",
   "metadata": {},
   "source": [
    "### 4. Variáveis Preditoras e Variável Alvo"
   ]
  },
  {
   "cell_type": "code",
   "execution_count": 57,
   "metadata": {},
   "outputs": [],
   "source": [
    "# Separando nosso conjunto de dados em variáveis preditores e variável ALVO\n",
    "X = amostra_dataframe.drop(['ALVO'], axis = 1)\n",
    "y = amostra_dataframe['ALVO']"
   ]
  },
  {
   "cell_type": "markdown",
   "metadata": {},
   "source": [
    "### 5. Tipo de Dados"
   ]
  },
  {
   "cell_type": "code",
   "execution_count": 58,
   "metadata": {},
   "outputs": [
    {
     "data": {
      "text/plain": [
       "codlegislatura               int64\n",
       "datemissao                  object\n",
       "idedocumento                 int64\n",
       "idecadastro                float64\n",
       "indtipodocumento             int64\n",
       "nucarteiraparlamentar      float64\n",
       "nudeputadoid                 int64\n",
       "nulegislatura                int64\n",
       "numano                       int64\n",
       "numespecificacaosubcota      int64\n",
       "numlote                      int64\n",
       "nummes                       int64\n",
       "numparcela                   int64\n",
       "numsubcota                   int64\n",
       "sgpartido                   object\n",
       "sguf                        object\n",
       "txnomeparlamentar           object\n",
       "txtcnpjcpf                   int64\n",
       "txtdescricao                object\n",
       "txtfornecedor               object\n",
       "txtnumero                   object\n",
       "vlrdocumento               float64\n",
       "vlrglosa                   float64\n",
       "vlrliquido                 float64\n",
       "dtype: object"
      ]
     },
     "execution_count": 58,
     "metadata": {},
     "output_type": "execute_result"
    }
   ],
   "source": [
    "# Verificando tipo de dados das variáveis preditoras\n",
    "X.dtypes"
   ]
  },
  {
   "cell_type": "markdown",
   "metadata": {},
   "source": [
    "### 6. Removendo Variáveis Correlatas"
   ]
  },
  {
   "cell_type": "code",
   "execution_count": 59,
   "metadata": {},
   "outputs": [],
   "source": [
    "# Removendo variáveis String\n",
    "del X['sgpartido']\n",
    "del X['sguf']\n",
    "del X['txnomeparlamentar']\n",
    "del X['txtdescricao']\n",
    "del X['txtfornecedor']\n",
    "del X['txtnumero']\n",
    "del X['vlrliquido']\n",
    "del X['datemissao']"
   ]
  },
  {
   "cell_type": "markdown",
   "metadata": {},
   "source": [
    "### 7. Shape DataFrame Preditor"
   ]
  },
  {
   "cell_type": "code",
   "execution_count": 60,
   "metadata": {},
   "outputs": [
    {
     "data": {
      "text/plain": [
       "(731913, 16)"
      ]
     },
     "execution_count": 60,
     "metadata": {},
     "output_type": "execute_result"
    }
   ],
   "source": [
    "# Verificando shape do dataframe das variáveis preditoras\n",
    "X.shape"
   ]
  },
  {
   "cell_type": "markdown",
   "metadata": {},
   "source": [
    "### 8. Normalização\n",
    "\n",
    "<p> Quando os nossos dados estão em escalas diferentes o algoritmo pode não obter o melhor resultado, sendo necessário muitas vezes normalizar ou padronizar. </p>\n",
    "\n",
    "<p> Normalização e Padronização tem objetivo semelhante, ambas servem para transformar os dados para mesma grandeza, porém o resultado da padronização é média = 0 e desvio padrão igual a 1. </p>\n",
    "    \n",
    "<p> Utilizaremos as funções do Sklearn para normalizar os nossos dados e realizar testes com modelos preditivos. </p>"
   ]
  },
  {
   "cell_type": "markdown",
   "metadata": {},
   "source": [
    "#### 8.1 Normalização com MinMaxScaler"
   ]
  },
  {
   "cell_type": "code",
   "execution_count": 61,
   "metadata": {},
   "outputs": [],
   "source": [
    "# Normalizando dados com MinMaxScaler\n",
    "\n",
    "# Escala\n",
    "scaler = MinMaxScaler(feature_range = (0, 1))\n",
    "\n",
    "# Aplicando modelo para reescala\n",
    "X_minmaxscaler = scaler.fit_transform(X)"
   ]
  },
  {
   "cell_type": "markdown",
   "metadata": {},
   "source": [
    "#### 8.2 Normalização com Normalizer"
   ]
  },
  {
   "cell_type": "code",
   "execution_count": 62,
   "metadata": {},
   "outputs": [],
   "source": [
    "# Normalizando dados com Normalizer\n",
    "scaler = Normalizer().fit(X)\n",
    "X_normalizer = scaler.transform(X)"
   ]
  },
  {
   "cell_type": "markdown",
   "metadata": {},
   "source": [
    "### 9. Análise preditiva com dados pré-processados"
   ]
  },
  {
   "cell_type": "code",
   "execution_count": 64,
   "metadata": {},
   "outputs": [],
   "source": [
    "# Criando um dataframe para receber o resultado da predição com dados pré-processados\n",
    "resultados_default = pd.DataFrame(columns=['Algoritmo', 'Acuracia'])\n",
    "\n",
    "# Lista de modelos\n",
    "models = []\n",
    "models.append((\"Regressao Log.\",LogisticRegression()))\n",
    "models.append((\"Gauss\",GaussianNB()))\n",
    "models.append((\"Linear Disc.\", LinearDiscriminantAnalysis()))\n",
    "models.append((\"Random Forest\",RandomForestRegressor(n_estimators=10)))\n",
    "models.append((\"Decision Tree\",DecisionTreeRegressor()))\n",
    "models.append((\"KNN\",KNeighborsRegressor()))\n",
    "\n",
    "num_folds = 3\n",
    "seed = 2021\n",
    "\n",
    "# Estrutura de repetição para coletar a acurácia de cada modelo\n",
    "for name,model in models:\n",
    "    kfold = KFold(num_folds, True, random_state = seed)\n",
    "    cv_result = cross_val_score(model, X, y, cv=kfold)\n",
    "    resultados_default = resultados_default.append({'Algoritmo': name, 'Acuracia':cv_result.mean() * 100}, ignore_index=True)"
   ]
  },
  {
   "cell_type": "code",
   "execution_count": 69,
   "metadata": {
    "scrolled": true
   },
   "outputs": [
    {
     "data": {
      "text/html": [
       "<div>\n",
       "<style scoped>\n",
       "    .dataframe tbody tr th:only-of-type {\n",
       "        vertical-align: middle;\n",
       "    }\n",
       "\n",
       "    .dataframe tbody tr th {\n",
       "        vertical-align: top;\n",
       "    }\n",
       "\n",
       "    .dataframe thead th {\n",
       "        text-align: right;\n",
       "    }\n",
       "</style>\n",
       "<table border=\"1\" class=\"dataframe\">\n",
       "  <thead>\n",
       "    <tr style=\"text-align: right;\">\n",
       "      <th></th>\n",
       "      <th>Algoritmo</th>\n",
       "      <th>Acuracia</th>\n",
       "    </tr>\n",
       "  </thead>\n",
       "  <tbody>\n",
       "    <tr>\n",
       "      <th>0</th>\n",
       "      <td>Regressao Log.</td>\n",
       "      <td>78.770564</td>\n",
       "    </tr>\n",
       "    <tr>\n",
       "      <th>1</th>\n",
       "      <td>Gauss</td>\n",
       "      <td>78.770564</td>\n",
       "    </tr>\n",
       "    <tr>\n",
       "      <th>2</th>\n",
       "      <td>Linear Disc.</td>\n",
       "      <td>85.894772</td>\n",
       "    </tr>\n",
       "    <tr>\n",
       "      <th>3</th>\n",
       "      <td>Random Forest</td>\n",
       "      <td>99.739516</td>\n",
       "    </tr>\n",
       "    <tr>\n",
       "      <th>4</th>\n",
       "      <td>Decision Tree</td>\n",
       "      <td>99.589381</td>\n",
       "    </tr>\n",
       "    <tr>\n",
       "      <th>5</th>\n",
       "      <td>KNN</td>\n",
       "      <td>62.319270</td>\n",
       "    </tr>\n",
       "  </tbody>\n",
       "</table>\n",
       "</div>"
      ],
      "text/plain": [
       "        Algoritmo   Acuracia\n",
       "0  Regressao Log.  78.770564\n",
       "1           Gauss  78.770564\n",
       "2    Linear Disc.  85.894772\n",
       "3   Random Forest  99.739516\n",
       "4   Decision Tree  99.589381\n",
       "5             KNN  62.319270"
      ]
     },
     "execution_count": 69,
     "metadata": {},
     "output_type": "execute_result"
    }
   ],
   "source": [
    "# Verificando acurácia dos modelos\n",
    "resultados_default"
   ]
  },
  {
   "cell_type": "markdown",
   "metadata": {},
   "source": [
    "#### 9.1 Análise Preditiva Normalização (MinMaxScaler)"
   ]
  },
  {
   "cell_type": "code",
   "execution_count": 65,
   "metadata": {},
   "outputs": [],
   "source": [
    "# Criando um dataframe para receber o resultado da predição com dados normalizados com MinMaxScaler\n",
    "resultados_minmaxscaler = pd.DataFrame(columns=['Algoritmo', 'Acuracia'])\n",
    "\n",
    "# Lista de modelos\n",
    "models = []\n",
    "models.append((\"Regressao Log.\",LogisticRegression()))\n",
    "models.append((\"Gauss\",GaussianNB()))\n",
    "models.append((\"Linear Disc.\", LinearDiscriminantAnalysis()))\n",
    "models.append((\"Random Forest\",RandomForestRegressor(n_estimators=10)))\n",
    "models.append((\"Decision Tree\",DecisionTreeRegressor()))\n",
    "models.append((\"KNN\",KNeighborsRegressor()))\n",
    "\n",
    "num_folds = 3\n",
    "seed = 2021\n",
    "\n",
    "# Estrutura de repetição para coletar a acurácia de cada modelo\n",
    "for name,model in models:\n",
    "    kfold = KFold(num_folds, True, random_state = seed)\n",
    "    cv_result = cross_val_score(model, X_minmaxscaler, y, cv=kfold)\n",
    "    resultados_minmaxscaler = resultados_minmaxscaler.append({'Algoritmo': name, 'Acuracia':cv_result.mean() * 100}, ignore_index=True)"
   ]
  },
  {
   "cell_type": "code",
   "execution_count": 72,
   "metadata": {
    "scrolled": true
   },
   "outputs": [
    {
     "data": {
      "text/html": [
       "<div>\n",
       "<style scoped>\n",
       "    .dataframe tbody tr th:only-of-type {\n",
       "        vertical-align: middle;\n",
       "    }\n",
       "\n",
       "    .dataframe tbody tr th {\n",
       "        vertical-align: top;\n",
       "    }\n",
       "\n",
       "    .dataframe thead th {\n",
       "        text-align: right;\n",
       "    }\n",
       "</style>\n",
       "<table border=\"1\" class=\"dataframe\">\n",
       "  <thead>\n",
       "    <tr style=\"text-align: right;\">\n",
       "      <th></th>\n",
       "      <th>Algoritmo</th>\n",
       "      <th>Acuracia</th>\n",
       "    </tr>\n",
       "  </thead>\n",
       "  <tbody>\n",
       "    <tr>\n",
       "      <th>0</th>\n",
       "      <td>Regressao Log.</td>\n",
       "      <td>89.062634</td>\n",
       "    </tr>\n",
       "    <tr>\n",
       "      <th>1</th>\n",
       "      <td>Gauss</td>\n",
       "      <td>91.441469</td>\n",
       "    </tr>\n",
       "    <tr>\n",
       "      <th>2</th>\n",
       "      <td>Linear Disc.</td>\n",
       "      <td>85.894772</td>\n",
       "    </tr>\n",
       "    <tr>\n",
       "      <th>3</th>\n",
       "      <td>Random Forest</td>\n",
       "      <td>99.739329</td>\n",
       "    </tr>\n",
       "    <tr>\n",
       "      <th>4</th>\n",
       "      <td>Decision Tree</td>\n",
       "      <td>99.586732</td>\n",
       "    </tr>\n",
       "    <tr>\n",
       "      <th>5</th>\n",
       "      <td>KNN</td>\n",
       "      <td>17.920244</td>\n",
       "    </tr>\n",
       "  </tbody>\n",
       "</table>\n",
       "</div>"
      ],
      "text/plain": [
       "        Algoritmo   Acuracia\n",
       "0  Regressao Log.  89.062634\n",
       "1           Gauss  91.441469\n",
       "2    Linear Disc.  85.894772\n",
       "3   Random Forest  99.739329\n",
       "4   Decision Tree  99.586732\n",
       "5             KNN  17.920244"
      ]
     },
     "execution_count": 72,
     "metadata": {},
     "output_type": "execute_result"
    }
   ],
   "source": [
    "# Verificando acurácia dos modelos\n",
    "resultados_minmaxscaler"
   ]
  },
  {
   "cell_type": "markdown",
   "metadata": {},
   "source": [
    "#### 9.2 Análise Preditiva Normalização (Normalizer)"
   ]
  },
  {
   "cell_type": "code",
   "execution_count": 66,
   "metadata": {},
   "outputs": [],
   "source": [
    "# Criando um dataframe para receber o resultado da predição com dados normalizados com Normalizer\n",
    "resultados_normalizer = pd.DataFrame(columns=['Algoritmo', 'Acuracia'])\n",
    "\n",
    "# Lista de modelos\n",
    "models = []\n",
    "models.append((\"Regressao Log.\",LogisticRegression()))\n",
    "models.append((\"Gauss\",GaussianNB()))\n",
    "models.append((\"Linear Disc.\", LinearDiscriminantAnalysis()))\n",
    "models.append((\"Random Forest\",RandomForestRegressor(n_estimators=10)))\n",
    "models.append((\"Decision Tree\",DecisionTreeRegressor()))\n",
    "models.append((\"KNN\",KNeighborsRegressor()))\n",
    "\n",
    "num_folds = 3\n",
    "seed = 2021\n",
    "\n",
    "# Estrutura de repetição para coletar a acurácia de cada modelo\n",
    "for name,model in models:\n",
    "    kfold = KFold(num_folds, True, random_state = seed)\n",
    "    cv_result = cross_val_score(model, X_normalizer, y, cv=kfold)\n",
    "    resultados_normalizer = resultados_normalizer.append({'Algoritmo': name, 'Acuracia':cv_result.mean() * 100}, ignore_index=True)"
   ]
  },
  {
   "cell_type": "code",
   "execution_count": 73,
   "metadata": {},
   "outputs": [
    {
     "data": {
      "text/html": [
       "<div>\n",
       "<style scoped>\n",
       "    .dataframe tbody tr th:only-of-type {\n",
       "        vertical-align: middle;\n",
       "    }\n",
       "\n",
       "    .dataframe tbody tr th {\n",
       "        vertical-align: top;\n",
       "    }\n",
       "\n",
       "    .dataframe thead th {\n",
       "        text-align: right;\n",
       "    }\n",
       "</style>\n",
       "<table border=\"1\" class=\"dataframe\">\n",
       "  <thead>\n",
       "    <tr style=\"text-align: right;\">\n",
       "      <th></th>\n",
       "      <th>Algoritmo</th>\n",
       "      <th>Acuracia</th>\n",
       "    </tr>\n",
       "  </thead>\n",
       "  <tbody>\n",
       "    <tr>\n",
       "      <th>0</th>\n",
       "      <td>Regressao Log.</td>\n",
       "      <td>78.789556</td>\n",
       "    </tr>\n",
       "    <tr>\n",
       "      <th>1</th>\n",
       "      <td>Gauss</td>\n",
       "      <td>34.904422</td>\n",
       "    </tr>\n",
       "    <tr>\n",
       "      <th>2</th>\n",
       "      <td>Linear Disc.</td>\n",
       "      <td>78.829041</td>\n",
       "    </tr>\n",
       "    <tr>\n",
       "      <th>3</th>\n",
       "      <td>Random Forest</td>\n",
       "      <td>9.869673</td>\n",
       "    </tr>\n",
       "    <tr>\n",
       "      <th>4</th>\n",
       "      <td>Decision Tree</td>\n",
       "      <td>9.424016</td>\n",
       "    </tr>\n",
       "    <tr>\n",
       "      <th>5</th>\n",
       "      <td>KNN</td>\n",
       "      <td>42.452675</td>\n",
       "    </tr>\n",
       "  </tbody>\n",
       "</table>\n",
       "</div>"
      ],
      "text/plain": [
       "        Algoritmo   Acuracia\n",
       "0  Regressao Log.  78.789556\n",
       "1           Gauss  34.904422\n",
       "2    Linear Disc.  78.829041\n",
       "3   Random Forest   9.869673\n",
       "4   Decision Tree   9.424016\n",
       "5             KNN  42.452675"
      ]
     },
     "execution_count": 73,
     "metadata": {},
     "output_type": "execute_result"
    }
   ],
   "source": [
    "# Verificando acurácia dos modelos\n",
    "resultados_normalizer"
   ]
  },
  {
   "cell_type": "markdown",
   "metadata": {},
   "source": [
    "### 10. Conclusão\n",
    "\n",
    "1. O parlamentar que tem maior débito na cota é o Edio Lopes;\n",
    "2. São Paulo é o estado que tem maior gasto com Deputados;\n",
    "3. O partido dos trabalhadores (PT) é o partido que tem mais Deputados e por consequência é o que tem maior gasto;\n",
    "4. A maior parte das despesas dos Deputados são com Companhias Aéreas;\n",
    "5. De 2018 até hoje as despesas com parlamentares teve uma queda significativa;\n",
    "6. O mês de dezembro é o que tem maior custo com parlamentares, é justificado pelas despesas com férias e viagens;\n",
    "\n",
    "\n",
    "#### Modelos Preditivos\n",
    "<p> Apesar de termos utilizado técnicas para normalização de dados, a análise preditiva com o algoritmo Random Foreste e dados pré-processados foi o que obteve uma acurácia melhor (99.74%), fator que é explicado pela atenção no tratamento dos dados, substituição de valores nulos e engenharia de atributos para as variáveis preditoras. </p>\n",
    "\n",
    "<p> Utilizamos o modelo para prever se as despesas serão superiores aos valores gastos em média, insight importante para antecipar a liberação de recursos e cortar gastos com as despesas desnecessárias. </p>\n",
    "\n",
    "<p> Utilizaremos uma aplicação Laravel para visualizarmos os insights obtidos com as análises de visualização de Dashboard. </p>"
   ]
  },
  {
   "cell_type": "markdown",
   "metadata": {},
   "source": [
    " "
   ]
  },
  {
   "cell_type": "markdown",
   "metadata": {},
   "source": [
    "# Bônus - Extra\n",
    "#### Salvar resultados em banco de dados MySQL para consumir em uma WebApp Laravel."
   ]
  },
  {
   "cell_type": "code",
   "execution_count": null,
   "metadata": {},
   "outputs": [],
   "source": [
    "# Instalando Conector Python via Pip\n",
    "!pip install mysql-connector-python"
   ]
  },
  {
   "cell_type": "code",
   "execution_count": 90,
   "metadata": {},
   "outputs": [],
   "source": [
    "# Importando biblioteca sqlalchemy\n",
    "import sqlalchemy\n",
    "\n",
    "#Configurações do banco de dados\n",
    "database_username = '{SEU_USERNAME}'\n",
    "database_password = '{SUA_SENHA}'\n",
    "database_ip       = '{SEU_IP}'\n",
    "database_name     = '{SEU_BANCO}'\n",
    "\n",
    "# Abrindo conexão com DB\n",
    "database_connection = sqlalchemy.create_engine('mysql+mysqlconnector://{0}:{1}@{2}/{3}'.\n",
    "                                               format(database_username, database_password, \n",
    "                                                      database_ip, database_name))\n",
    "\n",
    "# Informações de Dashboards\n",
    "debito_cota.to_sql(con=database_connection, name='debito_cota_parlamentar', if_exists='replace')\n",
    "debito_cota_uf.to_sql(con=database_connection, name='debito_cota_uf', if_exists='replace')\n",
    "debito_cota_partido.to_sql(con=database_connection, name='debito_cota_partido', if_exists='replace')\n",
    "total_deputado_partido.to_sql(con=database_connection, name='total_deputado_partido', if_exists='replace')\n",
    "total_liquido_fornec.to_sql(con=database_connection, name='total_liquido_fornec', if_exists='replace')\n",
    "total_liquido_anual.to_sql(con=database_connection, name='total_liquido_anual', if_exists='replace')\n",
    "total_liquido_mensal.to_sql(con=database_connection, name='total_liquido_mensal', if_exists='replace')\n",
    "\n",
    "# Análises de Algoritmos\n",
    "resultados_default.to_sql(con=database_connection, name='resultados_default', if_exists='replace')\n",
    "resultados_minmaxscaler.to_sql(con=database_connection, name='resultados_minmaxscaler', if_exists='replace')\n",
    "resultados_normalizer.to_sql(con=database_connection, name='resultados_normalizer', if_exists='replace')"
   ]
  },
  {
   "cell_type": "code",
   "execution_count": null,
   "metadata": {},
   "outputs": [],
   "source": [
    "# Criando arquivo DUMP do banco de dados\n",
    "mysqldump -u root -p camara_deputados_analytics > camara_deputados_analytics.sql"
   ]
  }
 ],
 "metadata": {
  "kernelspec": {
   "display_name": "Python 3",
   "language": "python",
   "name": "python3"
  },
  "language_info": {
   "codemirror_mode": {
    "name": "ipython",
    "version": 3
   },
   "file_extension": ".py",
   "mimetype": "text/x-python",
   "name": "python",
   "nbconvert_exporter": "python",
   "pygments_lexer": "ipython3",
   "version": "3.7.6"
  }
 },
 "nbformat": 4,
 "nbformat_minor": 4
}
